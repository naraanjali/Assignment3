{
 "cells": [
  {
   "cell_type": "markdown",
   "metadata": {},
   "source": [
    "Name : Anjali Nara\n",
    "Student ID : 700745071\n",
    "CRN : 2280"
   ]
  },
  {
   "cell_type": "code",
   "execution_count": 4,
   "metadata": {},
   "outputs": [
    {
     "name": "stdout",
     "output_type": "stream",
     "text": [
      "Random Vector:\n",
      "[12.21108549 12.01147023  5.6021067   0.          5.82804614 17.42114319\n",
      "  0.         13.67291454 19.45303433 17.37051302  1.98058969  0.\n",
      " 14.32605455 15.36829492 11.39819595  0.         14.49523887  7.31306002\n",
      "  3.60680524  4.40165949]\n",
      "\n",
      "Reshaped Array:\n",
      "[[12.21108549 12.01147023  5.6021067   0.          5.82804614]\n",
      " [17.42114319  0.         13.67291454 19.45303433 17.37051302]\n",
      " [ 1.98058969  0.         14.32605455 15.36829492 11.39819595]\n",
      " [ 0.         14.49523887  7.31306002  3.60680524  4.40165949]]\n"
     ]
    }
   ],
   "source": [
    "import numpy as np\n",
    "\n",
    "# Creating a random vector with random values of size 20 with floats in the range 1-20\n",
    "random_vector = np.random.uniform(1, 20, 20)\n",
    "\n",
    "# Reshaping the array to 4 by 5\n",
    "reshaped_array = random_vector.reshape(4, 5)\n",
    "\n",
    "# Replacing the max in each row by 0 (axis=1)\n",
    "reshaped_array[np.arange(len(reshaped_array)), reshaped_array.argmax(axis=1)] = 0\n",
    "\n",
    "print(\"Random Vector:\")\n",
    "print(random_vector)\n",
    "print(\"\\nReshaped Array:\")\n",
    "print(reshaped_array)"
   ]
  },
  {
   "cell_type": "code",
   "execution_count": 5,
   "metadata": {},
   "outputs": [
    {
     "name": "stdout",
     "output_type": "stream",
     "text": [
      "Average Salary: $50000.0\n",
      "Alice Smith works in IT department and works 40 hours per week.\n"
     ]
    }
   ],
   "source": [
    "class Employee:\n",
    "    # Class variable to count the number of employees\n",
    "    num_employees = 0\n",
    "\n",
    "    def __init__(self, name, family, salary, department):\n",
    "        # Instance variables\n",
    "        self.name = name\n",
    "        self.family = family\n",
    "        self.salary = salary\n",
    "        self.department = department\n",
    "\n",
    "        # Increment the count of employees\n",
    "        Employee.num_employees += 1\n",
    "\n",
    "    def average_salary(self):\n",
    "        # Function to calculate average salary\n",
    "        # For simplicity, let's assume a fixed number of employees for this example\n",
    "        total_salary = Employee.num_employees * self.salary\n",
    "        return total_salary / Employee.num_employees\n",
    "\n",
    "\n",
    "class FulltimeEmployee(Employee):\n",
    "    def __init__(self, name, family, salary, department, hours_worked):\n",
    "        # Call the constructor of the parent class (Employee)\n",
    "        super().__init__(name, family, salary, department)\n",
    "\n",
    "        # New property for FulltimeEmployee\n",
    "        self.hours_worked = hours_worked\n",
    "\n",
    "\n",
    "# Creating instances of Employee and FulltimeEmployee classes\n",
    "employee1 = Employee(\"John Doe\", \"Doe Family\", 50000, \"HR\")\n",
    "employee2 = FulltimeEmployee(\"Alice Smith\", \"Smith Family\", 60000, \"IT\", 40)\n",
    "\n",
    "# Calling member function\n",
    "average_salary = employee1.average_salary()\n",
    "print(f\"Average Salary: ${average_salary}\")\n",
    "\n",
    "# Accessing the inherited properties of FulltimeEmployee\n",
    "print(f\"{employee2.name} works in {employee2.department} department and works {employee2.hours_worked} hours per week.\")\n"
   ]
  }
 ],
 "metadata": {
  "kernelspec": {
   "display_name": "base",
   "language": "python",
   "name": "python3"
  },
  "language_info": {
   "codemirror_mode": {
    "name": "ipython",
    "version": 3
   },
   "file_extension": ".py",
   "mimetype": "text/x-python",
   "name": "python",
   "nbconvert_exporter": "python",
   "pygments_lexer": "ipython3",
   "version": "3.11.5"
  }
 },
 "nbformat": 4,
 "nbformat_minor": 2
}
